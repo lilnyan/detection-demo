{
  "nbformat": 4,
  "nbformat_minor": 0,
  "metadata": {
    "colab": {
      "name": "web demo.ipynb",
      "provenance": [],
      "collapsed_sections": []
    },
    "kernelspec": {
      "name": "python3",
      "display_name": "Python 3"
    }
  },
  "cells": [
    {
      "cell_type": "code",
      "metadata": {
        "id": "NCr5qLy6FlRW"
      },
      "source": [
        "!git clone https://github.com/lilnyan/detection-demo\r\n",
        "!mkdir templates\r\n",
        "!mkdir static\r\n",
        "shutil.move(\"/content/detection-demo/templates/index.jinja2\", \"/content/templates/\")\r\n",
        "shutil.move(\"/content/detection-demo/static/favicon.ico\", \"/content/static/\")\r\n",
        "shutil.move(\"/content/detection-demo/static/index.js\", \"/content/static/\")\r\n",
        "shutil.move(\"/content/detection-demo/index.html\", \"/content/\")\r\n",
        "shutil.move(\"/content/detection-demo/requirements.txt\", \"/content/\")\r\n",
        "!pip install -r requirements.txt"
      ],
      "execution_count": null,
      "outputs": []
    },
    {
      "cell_type": "code",
      "metadata": {
        "colab": {
          "base_uri": "https://localhost:8080/"
        },
        "id": "7y0cRt5UfH4_",
        "outputId": "02022b9a-2c85-4ea4-efad-78bd7daa9e60"
      },
      "source": [
        "#Установка необходимых пакетов\r\n",
        "!pip install flask-ngrok\r\n",
        "!pip install jsonpickle"
      ],
      "execution_count": null,
      "outputs": [
        {
          "output_type": "stream",
          "text": [
            "Requirement already satisfied: flask-ngrok in /usr/local/lib/python3.6/dist-packages (0.0.25)\n",
            "Requirement already satisfied: Flask>=0.8 in /usr/local/lib/python3.6/dist-packages (from flask-ngrok) (1.1.2)\n",
            "Requirement already satisfied: requests in /usr/local/lib/python3.6/dist-packages (from flask-ngrok) (2.23.0)\n",
            "Requirement already satisfied: itsdangerous>=0.24 in /usr/local/lib/python3.6/dist-packages (from Flask>=0.8->flask-ngrok) (1.1.0)\n",
            "Requirement already satisfied: click>=5.1 in /usr/local/lib/python3.6/dist-packages (from Flask>=0.8->flask-ngrok) (7.1.2)\n",
            "Requirement already satisfied: Werkzeug>=0.15 in /usr/local/lib/python3.6/dist-packages (from Flask>=0.8->flask-ngrok) (1.0.1)\n",
            "Requirement already satisfied: Jinja2>=2.10.1 in /usr/local/lib/python3.6/dist-packages (from Flask>=0.8->flask-ngrok) (2.11.2)\n",
            "Requirement already satisfied: urllib3!=1.25.0,!=1.25.1,<1.26,>=1.21.1 in /usr/local/lib/python3.6/dist-packages (from requests->flask-ngrok) (1.24.3)\n",
            "Requirement already satisfied: idna<3,>=2.5 in /usr/local/lib/python3.6/dist-packages (from requests->flask-ngrok) (2.10)\n",
            "Requirement already satisfied: certifi>=2017.4.17 in /usr/local/lib/python3.6/dist-packages (from requests->flask-ngrok) (2020.12.5)\n",
            "Requirement already satisfied: chardet<4,>=3.0.2 in /usr/local/lib/python3.6/dist-packages (from requests->flask-ngrok) (3.0.4)\n",
            "Requirement already satisfied: MarkupSafe>=0.23 in /usr/local/lib/python3.6/dist-packages (from Jinja2>=2.10.1->Flask>=0.8->flask-ngrok) (1.1.1)\n",
            "Requirement already satisfied: jsonpickle in /usr/local/lib/python3.6/dist-packages (1.5.1)\n",
            "Requirement already satisfied: importlib-metadata; python_version < \"3.8\" in /usr/local/lib/python3.6/dist-packages (from jsonpickle) (3.4.0)\n",
            "Requirement already satisfied: typing-extensions>=3.6.4; python_version < \"3.8\" in /usr/local/lib/python3.6/dist-packages (from importlib-metadata; python_version < \"3.8\"->jsonpickle) (3.7.4.3)\n",
            "Requirement already satisfied: zipp>=0.5 in /usr/local/lib/python3.6/dist-packages (from importlib-metadata; python_version < \"3.8\"->jsonpickle) (3.4.0)\n"
          ],
          "name": "stdout"
        }
      ]
    },
    {
      "cell_type": "code",
      "metadata": {
        "colab": {
          "base_uri": "https://localhost:8080/"
        },
        "id": "zWf1E-UbeCHH",
        "outputId": "cbb8961b-21b6-48f4-ff92-29daec09810d"
      },
      "source": [
        "from flask_ngrok import run_with_ngrok\r\n",
        "from flask import Flask, request, Response, render_template, jsonify\r\n",
        "import jsonpickle\r\n",
        "from PIL import Image\r\n",
        "import io, sys\r\n",
        "import numpy as np\r\n",
        "import cv2\r\n",
        "import base64\r\n",
        "\r\n",
        "app = Flask(__name__)\r\n",
        "run_with_ngrok(app)\r\n",
        "\r\n",
        "@app.route('/')\r\n",
        "def hello_world():\r\n",
        "    return render_template('index.jinja2')\r\n",
        "\r\n",
        "@app.route('/maskImage' , methods=['POST'])\r\n",
        "def mask_image():\r\n",
        "    # print(request.files , file=sys.stderr)\r\n",
        "    file = request.files['image'].read() ## byte file\r\n",
        "\r\n",
        "    npimg = np.fromstring(file, np.uint8)\r\n",
        "    img = cv2.imdecode(npimg,cv2.IMREAD_COLOR)\r\n",
        "    ######### Do preprocessing here ################\r\n",
        "    #img = ip.object_detection(img)\r\n",
        "    ## any random stuff do here\r\n",
        "    img[img > 150] = 0\r\n",
        "    ################################################\r\n",
        "    \r\n",
        "    img = Image.fromarray(img.astype(\"uint8\"))\r\n",
        "    rawBytes = io.BytesIO()\r\n",
        "    img.save(rawBytes, \"JPEG\")\r\n",
        "    rawBytes.seek(0)\r\n",
        "    img_base64 = base64.b64encode(rawBytes.read())\r\n",
        "    return jsonify({'status':str(img_base64)})\r\n",
        "\r\n",
        "\r\n",
        "# route http posts to this method\r\n",
        "@app.route('/test', methods=['POST'])\r\n",
        "def test():\r\n",
        "    r = request\r\n",
        "    # convert string of image data to uint8\r\n",
        "    nparr = np.fromstring(r.data, np.uint8)\r\n",
        "    # decode image\r\n",
        "    img = cv2.imdecode(nparr, cv2.IMREAD_COLOR)\r\n",
        "    \r\n",
        "    # do some fancy processing here....\r\n",
        "    img.adaptiveThreshold(img,255,cv2.ADAPTIVE_THRESH_MEAN_C, cv2.THRESH_BINARY,11,2)\r\n",
        "\r\n",
        "    # build a response dict to send back to client\r\n",
        "    response = {'message': 'image received. size={}x{}'.format(img.shape[1], img.shape[0])\r\n",
        "                }\r\n",
        "    # encode response using jsonpickle\r\n",
        "    response_pickled = jsonpickle.encode(response)\r\n",
        "\r\n",
        "    return Response(response=response_pickled, status=200, mimetype=\"application/json\")\r\n",
        "\r\n",
        "@app.after_request\r\n",
        "def after_request(response):\r\n",
        "    print(\"log: setting cors\" , file = sys.stderr)\r\n",
        "    response.headers.add('Access-Control-Allow-Origin', '*')\r\n",
        "    response.headers.add('Access-Control-Allow-Headers', 'Content-Type,Authorization')\r\n",
        "    response.headers.add('Access-Control-Allow-Methods', 'GET,PUT,POST,DELETE')\r\n",
        "    return response\r\n",
        "\r\n",
        "if __name__ == '__main__':\r\n",
        "    app.run()"
      ],
      "execution_count": null,
      "outputs": [
        {
          "output_type": "stream",
          "text": [
            " * Serving Flask app \"__main__\" (lazy loading)\n",
            " * Environment: production\n",
            "\u001b[31m   WARNING: This is a development server. Do not use it in a production deployment.\u001b[0m\n",
            "\u001b[2m   Use a production WSGI server instead.\u001b[0m\n",
            " * Debug mode: off\n"
          ],
          "name": "stdout"
        },
        {
          "output_type": "stream",
          "text": [
            " * Running on http://127.0.0.1:5000/ (Press CTRL+C to quit)\n"
          ],
          "name": "stderr"
        },
        {
          "output_type": "stream",
          "text": [
            " * Running on http://e40cf70c85eb.ngrok.io\n",
            " * Traffic stats available on http://127.0.0.1:4040\n"
          ],
          "name": "stdout"
        },
        {
          "output_type": "stream",
          "text": [
            "log: setting cors\n",
            "127.0.0.1 - - [04/Feb/2021 15:58:25] \"\u001b[37mGET / HTTP/1.1\u001b[0m\" 200 -\n",
            "log: setting cors\n",
            "127.0.0.1 - - [04/Feb/2021 15:58:26] \"\u001b[37mGET /static/index.js HTTP/1.1\u001b[0m\" 200 -\n",
            "log: setting cors\n",
            "127.0.0.1 - - [04/Feb/2021 15:58:26] \"\u001b[37mGET /static/favicon.ico HTTP/1.1\u001b[0m\" 200 -\n"
          ],
          "name": "stderr"
        }
      ]
    },
    {
      "cell_type": "code",
      "metadata": {
        "id": "7AC8SPb7wzPZ"
      },
      "source": [
        ""
      ],
      "execution_count": null,
      "outputs": []
    }
  ]
}